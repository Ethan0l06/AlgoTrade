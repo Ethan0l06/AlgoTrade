{
 "cells": [
  {
   "cell_type": "markdown",
   "id": "980f2fb4",
   "metadata": {},
   "source": [
    "Mainly serve as a template for future strategies. The template use simple moving average (SMA) of different timeframes to generate buy and sell signals. The higher timeframe SMA is used to generate the trend, and the lower timeframe SMA is used to generate the entry and exit points."
   ]
  },
  {
   "cell_type": "code",
   "execution_count": 1,
   "id": "d5ab2409",
   "metadata": {},
   "outputs": [],
   "source": [
    "from typing_extensions import Literal\n",
    "import pandas as pd\n",
    "import numpy as np\n",
    "import talib as ta\n",
    "# --- Our Imports ---\n",
    "from StrategyLab.Utils.DataManager import DataManager\n",
    "from StrategyLab.Config.BacktestConfig import BacktestConfig\n",
    "from StrategyLab.Backtester.BacktestRunner import BacktestRunner"
   ]
  },
  {
   "cell_type": "code",
   "execution_count": 2,
   "id": "1d14c59a",
   "metadata": {},
   "outputs": [
    {
     "name": "stdout",
     "output_type": "stream",
     "text": [
      "Loading data from d:\\ComputerScience\\Trading\\Quant2\\StrategyLab\\data\\bitget\\ADA_USDT_USDT_15m.csv...\n",
      "Load completed successfully. Data shape: (16960, 6)\n",
      "Loading data from d:\\ComputerScience\\Trading\\Quant2\\StrategyLab\\data\\bitget\\ADA_USDT_USDT_4h.csv...\n",
      "Load completed successfully. Data shape: (874, 5)\n"
     ]
    },
    {
     "name": "stderr",
     "output_type": "stream",
     "text": [
      "d:\\ComputerScience\\Trading\\Quant2\\StrategyLab\\Utils\\DataManager.py:291: UserWarning: Parsing dates in %d/%m/%Y %H:%M format when dayfirst=False (the default) was specified. Pass `dayfirst=True` or specify a format to silence this warning.\n",
      "  data.index = pd.to_datetime(data.index)\n"
     ]
    }
   ],
   "source": [
    "dm = DataManager(name=\"bitget\")\n",
    "ohlcv_data_s = dm.from_local(\"ADA/USDT:USDT\", \"15m\", \"2024-12-01\")\n",
    "ohlcv_data_l = dm.from_local(\"ADA/USDT:USDT\", \"4h\", \"2025-01-01\")"
   ]
  },
  {
   "cell_type": "code",
   "execution_count": 3,
   "id": "d2274b24",
   "metadata": {},
   "outputs": [],
   "source": [
    "def pre_process_data(df1: pd.DataFrame, df2: pd.DataFrame):\n",
    "    df1[\"datetime\"] = df1.index\n",
    "    df1.reset_index(drop=True, inplace=True)\n",
    "    df2[\"datetime\"] = df2.index\n",
    "    df2.reset_index(drop=True, inplace=True)\n",
    "    print(\"Data preprocessed.\")\n",
    "    return df1, df2"
   ]
  },
  {
   "cell_type": "code",
   "execution_count": 4,
   "id": "d6f0c588",
   "metadata": {},
   "outputs": [],
   "source": [
    "def compute_indicators_df1(\n",
    "    df1: pd.DataFrame,\n",
    "    period_df1: int,\n",
    "):\n",
    "    df1[\"MA\"] = ta.SMA(df1[\"close\"], timeperiod=period_df1)\n",
    "    df1[\"STDDEV\"] = ta.STDDEV(df1[\"close\"], timeperiod=14)\n",
    "    df1[\"ATR\"] = ta.ATR(df1[\"high\"], df1[\"low\"], df1[\"close\"], timeperiod=14)\n",
    "    df1[\"SD_ATR_Spread\"] = df1[\"STDDEV\"] - df1[\"ATR\"]\n",
    "    print(\"Indicators computed (df1).\")\n",
    "    return df1\n",
    "\n",
    "\n",
    "def compute_indicators_df2(\n",
    "    df2: pd.DataFrame,\n",
    "    fastperiod: int = 12,\n",
    "    slowperiod: int = 26,\n",
    "    signalperiod: int = 9,\n",
    "):\n",
    "    # Compute MACD\n",
    "    df2[\"MACD\"] = ta.MACD(\n",
    "        df2[\"close\"],\n",
    "        fastperiod=fastperiod,\n",
    "        slowperiod=slowperiod,\n",
    "        signalperiod=signalperiod,\n",
    "    )\n",
    "    df2[\"MACD_signal\"] = ta.MACD(\n",
    "        df2[\"close\"],\n",
    "        fastperiod=fastperiod,\n",
    "        slowperiod=slowperiod,\n",
    "        signalperiod=signalperiod,\n",
    "    )\n",
    "    df2[\"MACD_hist\"] = df2[\"MACD\"] - df2[\"MACD_signal\"]\n",
    "    print(\"Indicators computed (df2).\")\n",
    "    return df2\n",
    "\n",
    "\n",
    "def merge_htf_into_ltf(df_ltf, df_htf, suffix):\n",
    "    df_ltf = df_ltf.copy()\n",
    "    df_htf = df_htf.copy()\n",
    "\n",
    "    df_ltf[\"datetime\"] = pd.to_datetime(df_ltf[\"datetime\"])\n",
    "    df_htf[\"datetime\"] = pd.to_datetime(df_htf[\"datetime\"])\n",
    "\n",
    "    df_ltf.set_index(\"datetime\", inplace=True)\n",
    "    df_htf.set_index(\"datetime\", inplace=True)\n",
    "\n",
    "    df_htf = df_htf.shift(1)\n",
    "\n",
    "    df_htf_resampled = df_htf.reindex(df_ltf.index, method=\"ffill\")\n",
    "    df_merged = df_ltf.join(df_htf_resampled, rsuffix=suffix)\n",
    "    df_merged.dropna(inplace=True)\n",
    "    print(\"Starting time before merge:\", df_ltf.index[0])\n",
    "    print(\"Starting time after merge:\", df_merged.index[0])\n",
    "    return df_merged.reset_index()"
   ]
  },
  {
   "cell_type": "code",
   "execution_count": 5,
   "id": "4ad75e55",
   "metadata": {},
   "outputs": [
    {
     "name": "stdout",
     "output_type": "stream",
     "text": [
      "Data preprocessed.\n",
      "Indicators computed (df1).\n",
      "Indicators computed (df2).\n"
     ]
    }
   ],
   "source": [
    "df1, df2 = pre_process_data(ohlcv_data_s, ohlcv_data_l)\n",
    "df1 = compute_indicators_df1(df1, 55)\n",
    "df2 = compute_indicators_df2(df2, 3)"
   ]
  },
  {
   "cell_type": "code",
   "execution_count": 6,
   "id": "c3581ce0",
   "metadata": {},
   "outputs": [
    {
     "name": "stdout",
     "output_type": "stream",
     "text": [
      "Starting time before merge: 2024-12-01 00:00:00\n",
      "Starting time after merge: 2025-01-03 12:00:00\n"
     ]
    }
   ],
   "source": [
    "merge_df = merge_htf_into_ltf(df1, df2, suffix=\"_4h\")\n"
   ]
  },
  {
   "cell_type": "code",
   "execution_count": 7,
   "id": "b7f488de",
   "metadata": {},
   "outputs": [
    {
     "data": {
      "text/plain": [
       "Index(['datetime', 'instrument', 'open', 'high', 'low', 'close', 'volume',\n",
       "       'MA', 'STDDEV', 'ATR', 'SD_ATR_Spread', 'open_4h', 'high_4h', 'low_4h',\n",
       "       'close_4h', 'volume_4h', 'MA_4h', 'STDDEV_4h', 'ATR_4h',\n",
       "       'SD_ATR_Spread_4h', 'trend'],\n",
       "      dtype='object')"
      ]
     },
     "execution_count": 7,
     "metadata": {},
     "output_type": "execute_result"
    }
   ],
   "source": [
    "merge_df.columns"
   ]
  },
  {
   "cell_type": "code",
   "execution_count": 8,
   "id": "a2aa4431",
   "metadata": {},
   "outputs": [],
   "source": [
    "def compute_signals(merged_df: pd.DataFrame):\n",
    "    merged_df[\"signal\"] = 0\n",
    "    # Convert numpy array to pandas Series before shifting\n",
    "\n",
    "    # Create signal array\n",
    "    signal = np.where(\n",
    "        (merged_df[\"trend\"] == 1)\n",
    "        & (merged_df[\"close\"] > merged_df[\"MA\"])\n",
    "        & (merged_df[\"SD_ATR_Spread\"] > 0),\n",
    "        1,\n",
    "        np.where(\n",
    "            (merged_df[\"trend\"] == -1)\n",
    "            & (merged_df[\"close\"] < merged_df[\"MA\"])\n",
    "            & (merged_df[\"SD_ATR_Spread\"] > 0),\n",
    "            -1,\n",
    "            0,\n",
    "        ),\n",
    "    )\n",
    "    # Convert signal array to pandas Series before shifting\n",
    "    merged_df[\"signal\"] = pd.Series(signal, index=merged_df.index).shift(1).fillna(0)\n",
    "    print(\"Signal computed.\")\n",
    "    return merged_df"
   ]
  },
  {
   "cell_type": "code",
   "execution_count": 9,
   "id": "86a8b9ea",
   "metadata": {},
   "outputs": [
    {
     "name": "stdout",
     "output_type": "stream",
     "text": [
      "Signal computed.\n"
     ]
    }
   ],
   "source": [
    "solution = compute_signals(merge_df)"
   ]
  },
  {
   "cell_type": "markdown",
   "id": "bd0f76ac",
   "metadata": {},
   "source": [
    "# Set datetime to index to use the backtest"
   ]
  },
  {
   "cell_type": "code",
   "execution_count": 10,
   "id": "b05d0c51",
   "metadata": {},
   "outputs": [],
   "source": [
    "solution.set_index('datetime', inplace=True)"
   ]
  },
  {
   "cell_type": "markdown",
   "id": "ee062196",
   "metadata": {},
   "source": [
    "# Select Position Sizing Method"
   ]
  },
  {
   "cell_type": "code",
   "execution_count": 11,
   "id": "00df8850",
   "metadata": {},
   "outputs": [],
   "source": [
    "config = BacktestConfig(\n",
    "    initial_balance=100.0,\n",
    "    trading_mode=\"Cross\",\n",
    "    leverage=100,\n",
    "    position_sizing_method=\"PercentBalance\",\n",
    "    position_size_pct=0.1,\n",
    "    exit_on_signal_0=True,\n",
    "    atr_period=14,\n",
    "    atr_multiplier=2.5,\n",
    "    stop_loss_pct=0.02,\n",
    "    take_profit_pct=0.02,\n",
    ")"
   ]
  },
  {
   "cell_type": "code",
   "execution_count": 12,
   "id": "aa78eed6",
   "metadata": {},
   "outputs": [
    {
     "name": "stdout",
     "output_type": "stream",
     "text": [
      "Starting backtest...\n",
      "Backtest finished.\n",
      "\n",
      "--- Backtest Results ---\n",
      "Period: [2025-01-03] -> [2025-05-26]\n",
      "Initial Balance:        100.00\n",
      "Final Balance:          0.00\n",
      "ROI:                    -100.00%\n",
      "Profit:                 95.22\n",
      "Loss:                   195.22\n",
      "Sharpe Ratio:           -6.78\n",
      "Sortino Ratio:          -9.38\n",
      "Calmar Ratio:           -1.00\n",
      "Max Drawdown:           100.00%\n",
      "Total Trades:           642\n",
      "Total Good Trades:      250\n",
      "Total Bad Trades:       392\n",
      "Avg PnL Good Trades:    87.72%\n",
      "Avg PnL Bad Trades:     -81.89%\n",
      "Win Rate:               38.94%\n",
      "Loss Rate:              61.06%\n",
      "Profit Factor:          0.49\n"
     ]
    }
   ],
   "source": [
    "runner = BacktestRunner(config=config, data=solution)\n",
    "analysis = runner.run()\n",
    "analysis.print_metrics()"
   ]
  },
  {
   "cell_type": "code",
   "execution_count": 13,
   "id": "9f856106",
   "metadata": {},
   "outputs": [],
   "source": [
    "ex = analysis.results_df"
   ]
  },
  {
   "cell_type": "markdown",
   "id": "93abf30e",
   "metadata": {},
   "source": [
    "# Select All Position Sizing Method"
   ]
  },
  {
   "cell_type": "code",
   "execution_count": 27,
   "id": "d4fce9a2",
   "metadata": {},
   "outputs": [],
   "source": [
    "base_config = BacktestConfig(\n",
    "    initial_balance=100.0,\n",
    "    trading_mode=\"Cross\",\n",
    "    leverage=50,\n",
    "    exit_on_signal_0=True,\n",
    "    atr_period=14,\n",
    "    atr_multiplier=2.5,\n",
    "    stop_loss_pct=0.02,\n",
    "    take_profit_pct=0.02,\n",
    "    risk_per_trade_pct=0.02,  # For AtrVolatility\n",
    "    position_size_pct=0.1,  # For PercentBalance\n",
    "    position_size_fixed_amount=10.0,  # For FixedAmount ($2 margin per trade)\n",
    ")"
   ]
  },
  {
   "cell_type": "code",
   "execution_count": 28,
   "id": "a8f4ddb2",
   "metadata": {},
   "outputs": [],
   "source": [
    "import StrategyLab.Backtester.ComparativeRunner as cr"
   ]
  },
  {
   "cell_type": "code",
   "execution_count": null,
   "id": "224d1d29",
   "metadata": {},
   "outputs": [],
   "source": [
    "res = cr.run_comparative_analysis(base_config, solution)"
   ]
  },
  {
   "cell_type": "code",
   "execution_count": null,
   "id": "163c643f",
   "metadata": {},
   "outputs": [],
   "source": [
    "cr.print_comparison_report(res)"
   ]
  },
  {
   "cell_type": "code",
   "execution_count": null,
   "id": "6294c8a5",
   "metadata": {},
   "outputs": [],
   "source": []
  }
 ],
 "metadata": {
  "kernelspec": {
   "display_name": ".venv",
   "language": "python",
   "name": "python3"
  },
  "language_info": {
   "codemirror_mode": {
    "name": "ipython",
    "version": 3
   },
   "file_extension": ".py",
   "mimetype": "text/x-python",
   "name": "python",
   "nbconvert_exporter": "python",
   "pygments_lexer": "ipython3",
   "version": "3.12.6"
  }
 },
 "nbformat": 4,
 "nbformat_minor": 5
}
