{
 "cells": [
  {
   "cell_type": "code",
   "execution_count": 1,
   "id": "e15072c3",
   "metadata": {},
   "outputs": [],
   "source": [
    "import pandas as pd\n",
    "import numpy as np\n",
    "from typing import Dict\n",
    "import optuna\n",
    "\n",
    "# --- All Project Imports ---\n",
    "from AlgoTrade.Utils.DataManager import DataManager\n",
    "from AlgoTrade.Config.BacktestConfig import BacktestConfig\n",
    "from AlgoTrade.Config.Enums import TradingMode\n",
    "from AlgoTrade.Strat.Class.BaseStrategy import BaseStrategy\n",
    "from AlgoTrade.Factories.IndicatorFactory import IndicatorFactory\n",
    "from AlgoTrade.Sizing.AtrBandsSizer import AtrBandsSizer\n",
    "from AlgoTrade.Optimizer.StudyRunner import run_optimization\n",
    "from AlgoTrade.Analysis.BacktestAnalysis import BacktestAnalysis"
   ]
  },
  {
   "cell_type": "code",
   "execution_count": 2,
   "id": "3f95361a",
   "metadata": {},
   "outputs": [],
   "source": [
    "symbol_ltf = \"TRX/USDT:USDT\"\n",
    "tframe_ltf = \"1m\"\n",
    "symbol_htf = \"TRX/USDT:USDT\"\n",
    "tframe_htf = \"1h\"\n",
    "start_date = \"2024-01-01\"\n",
    "dm = DataManager(name=\"bitget\")"
   ]
  },
  {
   "cell_type": "code",
   "execution_count": 3,
   "id": "68722f28",
   "metadata": {},
   "outputs": [
    {
     "name": "stdout",
     "output_type": "stream",
     "text": [
      "Loading data from d:\\ComputerScience\\Trading\\Quant2\\data\\bitget\\TRX_USDT_USDT_1m.csv...\n",
      "Load completed successfully. Data shape: (773918, 5)\n",
      "Loading data from d:\\ComputerScience\\Trading\\Quant2\\data\\bitget\\TRX_USDT_USDT_1h.csv...\n",
      "Load completed successfully. Data shape: (12756, 5)\n"
     ]
    }
   ],
   "source": [
    "ltf_data = dm.from_local(symbol_ltf, tframe_ltf, start_date)\n",
    "htf_data = dm.from_local(symbol_htf, tframe_htf, start_date)"
   ]
  },
  {
   "cell_type": "code",
   "execution_count": 4,
   "id": "c90a3d28",
   "metadata": {},
   "outputs": [],
   "source": [
    "htf_data_resampled = htf_data.reindex(ltf_data.index, method=\"ffill\")\n",
    "merged = ltf_data.join(htf_data_resampled, rsuffix=\"_htf\").dropna()"
   ]
  },
  {
   "cell_type": "code",
   "execution_count": 5,
   "id": "a88fb89c",
   "metadata": {},
   "outputs": [],
   "source": [
    "merged_analysis = merged[[\"close\", \"close_htf\"]].copy()"
   ]
  },
  {
   "cell_type": "code",
   "execution_count": 6,
   "id": "629d6a3c",
   "metadata": {},
   "outputs": [],
   "source": [
    "merged_analysis[\"direction\"] = np.where(merged_analysis[\"close\"] > merged_analysis[\"close\"].shift(1), \"up\", \"down\")"
   ]
  },
  {
   "cell_type": "code",
   "execution_count": 7,
   "id": "2047ba5d",
   "metadata": {},
   "outputs": [
    {
     "data": {
      "text/plain": [
       "direction\n",
       "down    30\n",
       "up      30\n",
       "Name: count, dtype: int64"
      ]
     },
     "execution_count": 7,
     "metadata": {},
     "output_type": "execute_result"
    }
   ],
   "source": [
    "merged_analysis.iloc[:60][\"direction\"].value_counts()"
   ]
  },
  {
   "cell_type": "code",
   "execution_count": 8,
   "id": "1bd9905f",
   "metadata": {},
   "outputs": [],
   "source": [
    "# Map direction to numeric values\n",
    "direction_numeric = merged_analysis[\"direction\"].map({\"up\": 1, \"down\": -1})\n",
    "\n",
    "# One-hot style flags for up/down\n",
    "is_up = (merged_analysis[\"direction\"] == \"up\").astype(int)\n",
    "is_down = (merged_analysis[\"direction\"] == \"down\").astype(int)\n",
    "\n",
    "# Rolling count of ups and downs\n",
    "up_count = is_up.rolling(window=60, min_periods=1).sum()\n",
    "down_count = is_down.rolling(window=60, min_periods=1).sum()\n",
    "\n",
    "# Assign signal based on counts\n",
    "merged_analysis[\"signal\"] = np.select(\n",
    "    [up_count > 30, down_count > 30], [1, -1], default=0\n",
    ")"
   ]
  },
  {
   "cell_type": "code",
   "execution_count": 9,
   "id": "2f6f0e72",
   "metadata": {},
   "outputs": [],
   "source": [
    "new_merged_analysis = merged_analysis.iloc[range(0, len(merged_analysis), 60)]"
   ]
  },
  {
   "cell_type": "code",
   "execution_count": 10,
   "id": "8f31b6da",
   "metadata": {},
   "outputs": [
    {
     "data": {
      "text/html": [
       "<div>\n",
       "<style scoped>\n",
       "    .dataframe tbody tr th:only-of-type {\n",
       "        vertical-align: middle;\n",
       "    }\n",
       "\n",
       "    .dataframe tbody tr th {\n",
       "        vertical-align: top;\n",
       "    }\n",
       "\n",
       "    .dataframe thead th {\n",
       "        text-align: right;\n",
       "    }\n",
       "</style>\n",
       "<table border=\"1\" class=\"dataframe\">\n",
       "  <thead>\n",
       "    <tr style=\"text-align: right;\">\n",
       "      <th></th>\n",
       "      <th>close</th>\n",
       "      <th>close_htf</th>\n",
       "      <th>direction</th>\n",
       "      <th>signal</th>\n",
       "    </tr>\n",
       "    <tr>\n",
       "      <th>date</th>\n",
       "      <th></th>\n",
       "      <th></th>\n",
       "      <th></th>\n",
       "      <th></th>\n",
       "    </tr>\n",
       "  </thead>\n",
       "  <tbody>\n",
       "    <tr>\n",
       "      <th>2024-01-01 00:00:00</th>\n",
       "      <td>0.10779</td>\n",
       "      <td>0.10839</td>\n",
       "      <td>down</td>\n",
       "      <td>0</td>\n",
       "    </tr>\n",
       "    <tr>\n",
       "      <th>2024-01-01 01:00:00</th>\n",
       "      <td>0.10839</td>\n",
       "      <td>0.10822</td>\n",
       "      <td>down</td>\n",
       "      <td>0</td>\n",
       "    </tr>\n",
       "    <tr>\n",
       "      <th>2024-01-01 02:00:00</th>\n",
       "      <td>0.10829</td>\n",
       "      <td>0.10784</td>\n",
       "      <td>up</td>\n",
       "      <td>-1</td>\n",
       "    </tr>\n",
       "    <tr>\n",
       "      <th>2024-01-01 03:00:00</th>\n",
       "      <td>0.10784</td>\n",
       "      <td>0.10714</td>\n",
       "      <td>down</td>\n",
       "      <td>-1</td>\n",
       "    </tr>\n",
       "    <tr>\n",
       "      <th>2024-01-01 04:00:00</th>\n",
       "      <td>0.10714</td>\n",
       "      <td>0.10657</td>\n",
       "      <td>down</td>\n",
       "      <td>-1</td>\n",
       "    </tr>\n",
       "    <tr>\n",
       "      <th>...</th>\n",
       "      <td>...</td>\n",
       "      <td>...</td>\n",
       "      <td>...</td>\n",
       "      <td>...</td>\n",
       "    </tr>\n",
       "    <tr>\n",
       "      <th>2025-06-21 06:00:00</th>\n",
       "      <td>0.27327</td>\n",
       "      <td>0.27212</td>\n",
       "      <td>up</td>\n",
       "      <td>1</td>\n",
       "    </tr>\n",
       "    <tr>\n",
       "      <th>2025-06-21 07:00:00</th>\n",
       "      <td>0.27418</td>\n",
       "      <td>0.27212</td>\n",
       "      <td>down</td>\n",
       "      <td>-1</td>\n",
       "    </tr>\n",
       "    <tr>\n",
       "      <th>2025-06-21 08:00:00</th>\n",
       "      <td>0.27401</td>\n",
       "      <td>0.27212</td>\n",
       "      <td>up</td>\n",
       "      <td>-1</td>\n",
       "    </tr>\n",
       "    <tr>\n",
       "      <th>2025-06-21 09:00:00</th>\n",
       "      <td>0.27437</td>\n",
       "      <td>0.27212</td>\n",
       "      <td>up</td>\n",
       "      <td>1</td>\n",
       "    </tr>\n",
       "    <tr>\n",
       "      <th>2025-06-21 10:00:00</th>\n",
       "      <td>0.27395</td>\n",
       "      <td>0.27212</td>\n",
       "      <td>up</td>\n",
       "      <td>-1</td>\n",
       "    </tr>\n",
       "  </tbody>\n",
       "</table>\n",
       "<p>12899 rows × 4 columns</p>\n",
       "</div>"
      ],
      "text/plain": [
       "                       close  close_htf direction  signal\n",
       "date                                                     \n",
       "2024-01-01 00:00:00  0.10779    0.10839      down       0\n",
       "2024-01-01 01:00:00  0.10839    0.10822      down       0\n",
       "2024-01-01 02:00:00  0.10829    0.10784        up      -1\n",
       "2024-01-01 03:00:00  0.10784    0.10714      down      -1\n",
       "2024-01-01 04:00:00  0.10714    0.10657      down      -1\n",
       "...                      ...        ...       ...     ...\n",
       "2025-06-21 06:00:00  0.27327    0.27212        up       1\n",
       "2025-06-21 07:00:00  0.27418    0.27212      down      -1\n",
       "2025-06-21 08:00:00  0.27401    0.27212        up      -1\n",
       "2025-06-21 09:00:00  0.27437    0.27212        up       1\n",
       "2025-06-21 10:00:00  0.27395    0.27212        up      -1\n",
       "\n",
       "[12899 rows x 4 columns]"
      ]
     },
     "execution_count": 10,
     "metadata": {},
     "output_type": "execute_result"
    }
   ],
   "source": [
    "new_merged_analysis"
   ]
  },
  {
   "cell_type": "code",
   "execution_count": null,
   "id": "7c2e46fd",
   "metadata": {},
   "outputs": [],
   "source": []
  }
 ],
 "metadata": {
  "kernelspec": {
   "display_name": ".venv",
   "language": "python",
   "name": "python3"
  },
  "language_info": {
   "codemirror_mode": {
    "name": "ipython",
    "version": 3
   },
   "file_extension": ".py",
   "mimetype": "text/x-python",
   "name": "python",
   "nbconvert_exporter": "python",
   "pygments_lexer": "ipython3",
   "version": "3.12.6"
  }
 },
 "nbformat": 4,
 "nbformat_minor": 5
}
