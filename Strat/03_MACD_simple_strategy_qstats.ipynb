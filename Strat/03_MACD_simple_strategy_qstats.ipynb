{
 "cells": [
  {
   "cell_type": "code",
   "execution_count": 1,
   "id": "e15072c3",
   "metadata": {},
   "outputs": [],
   "source": [
    "import pandas as pd\n",
    "import numpy as np\n",
    "%matplotlib inline\n",
    "import quantstats_lumi as qs"
   ]
  },
  {
   "cell_type": "code",
   "execution_count": 2,
   "id": "3f95361a",
   "metadata": {},
   "outputs": [],
   "source": [
    "df = pd.read_csv(\"D:\\\\ComputerScience\\\\Trading\\\\Quant2\\\\data\\\\bitget\\\\ADA_USDT_USDT_15m.csv\")"
   ]
  },
  {
   "cell_type": "code",
   "execution_count": 3,
   "id": "4368458d",
   "metadata": {},
   "outputs": [],
   "source": [
    "df[\"date\"] = pd.to_datetime(df[\"date\"], format=\"%d/%m/%Y %H:%M\")\n",
    "df.set_index(\"date\", inplace=True)\n",
    "df = df.sort_index()"
   ]
  },
  {
   "cell_type": "code",
   "execution_count": 4,
   "id": "dfc67c97",
   "metadata": {},
   "outputs": [],
   "source": [
    "ema_fast = df[\"close\"].ewm(span=12, adjust=False).mean()\n",
    "ema_slow = df[\"close\"].ewm(span=26, adjust=False).mean()\n",
    "macd = ema_fast - ema_slow\n",
    "signal = macd.ewm(span=9, adjust=False).mean()"
   ]
  },
  {
   "cell_type": "code",
   "execution_count": 5,
   "id": "81b61979",
   "metadata": {},
   "outputs": [],
   "source": [
    "df[\"macd\"] = macd\n",
    "df[\"signal\"] = signal\n",
    "df[\"position\"] = np.where(macd > signal, 1, 0)\n",
    "df[\"position\"] = df[\"position\"].shift(1)"
   ]
  },
  {
   "cell_type": "code",
   "execution_count": 6,
   "id": "3099ffd1",
   "metadata": {},
   "outputs": [],
   "source": [
    "df[\"returns\"] = df[\"close\"].pct_change()\n",
    "df[\"strategy_returns\"] = df[\"returns\"] * df[\"position\"]"
   ]
  },
  {
   "cell_type": "code",
   "execution_count": 7,
   "id": "f4c875fd",
   "metadata": {},
   "outputs": [],
   "source": [
    "daily_returns = df[\"strategy_returns\"].resample(\"D\").sum().dropna()\n",
    "daily_returns.name = \"MACD_Strategy\""
   ]
  },
  {
   "cell_type": "code",
   "execution_count": 11,
   "id": "08ec7ef6",
   "metadata": {},
   "outputs": [
    {
     "name": "stdout",
     "output_type": "stream",
     "text": [
      "HTML report saved to: macd_strategy_report.html\n"
     ]
    },
    {
     "data": {
      "application/vnd.microsoft.datawrangler.viewer.v0+json": {
       "columns": [
        {
         "name": "Metric",
         "rawType": "object",
         "type": "string"
        },
        {
         "name": "Strategy",
         "rawType": "object",
         "type": "string"
        }
       ],
       "ref": "d918f06d-9d01-498e-baca-78f9f868433f",
       "rows": [
        [
         "Risk-Free Rate",
         "0.0%"
        ],
        [
         "Time in Market",
         "100.0%"
        ],
        [
         "",
         ""
        ],
        [
         "Total Return",
         "-29%"
        ],
        [
         "CAGR% (Annual Return)",
         "-21.63%"
        ],
        [
         "",
         ""
        ],
        [
         "Sharpe",
         "-0.04"
        ],
        [
         "RoMaD",
         "-0.49"
        ],
        [
         "Prob. Sharpe Ratio",
         "48.14%"
        ],
        [
         "Smart Sharpe",
         "-0.04"
        ],
        [
         "Sortino",
         "-0.06"
        ],
        [
         "Smart Sortino",
         "-0.06"
        ],
        [
         "Sortino/√2",
         "-0.04"
        ],
        [
         "Smart Sortino/√2",
         "-0.04"
        ],
        [
         "Omega",
         "0.99"
        ],
        [
         "",
         ""
        ],
        [
         "Max Drawdown",
         "-43.82%"
        ],
        [
         "Longest DD Days",
         "359"
        ],
        [
         "Volatility (ann.)",
         "66.88%"
        ],
        [
         "Calmar",
         "-0.49"
        ],
        [
         "Skew",
         "1.67"
        ],
        [
         "Kurtosis",
         "16.15"
        ],
        [
         "",
         ""
        ],
        [
         "Expected Daily%",
         "-0.07%"
        ],
        [
         "Expected Monthly%",
         "-1.88%"
        ],
        [
         "Expected Yearly%",
         "-10.76%"
        ],
        [
         "Daily Value-at-Risk",
         "-5.77%"
        ],
        [
         "Expected Shortfall (cVaR)",
         "-5.77%"
        ],
        [
         "",
         ""
        ],
        [
         "MTD",
         "-17.82%"
        ],
        [
         "3M",
         "-16.64%"
        ],
        [
         "6M",
         "-31.17%"
        ],
        [
         "YTD",
         "-23.34%"
        ],
        [
         "1Y",
         "-20.97%"
        ],
        [
         "3Y (ann.)",
         "-21.63%"
        ],
        [
         "5Y (ann.)",
         "-21.63%"
        ],
        [
         "10Y (ann.)",
         "-21.63%"
        ],
        [
         "All-time (ann.)",
         "-21.63%"
        ],
        [
         "",
         ""
        ],
        [
         "Best Day",
         "32.8%"
        ],
        [
         "Worst Day",
         "-16.19%"
        ],
        [
         "Best Month",
         "33.14%"
        ],
        [
         "Worst Month",
         "-17.82%"
        ],
        [
         "Best Year",
         "-1.62%"
        ],
        [
         "Worst Year",
         "-23.34%"
        ],
        [
         "",
         ""
        ],
        [
         "Avg. Drawdown",
         "-14.76%"
        ],
        [
         "Avg. Drawdown Days",
         "56"
        ],
        [
         "Recovery Factor",
         "0.08"
        ],
        [
         "Ulcer Index",
         "0.27"
        ]
       ],
       "shape": {
        "columns": 1,
        "rows": 60
       }
      },
      "text/html": [
       "<div>\n",
       "<style scoped>\n",
       "    .dataframe tbody tr th:only-of-type {\n",
       "        vertical-align: middle;\n",
       "    }\n",
       "\n",
       "    .dataframe tbody tr th {\n",
       "        vertical-align: top;\n",
       "    }\n",
       "\n",
       "    .dataframe thead th {\n",
       "        text-align: right;\n",
       "    }\n",
       "</style>\n",
       "<table border=\"1\" class=\"dataframe\">\n",
       "  <thead>\n",
       "    <tr style=\"text-align: right;\">\n",
       "      <th></th>\n",
       "      <th>Strategy</th>\n",
       "    </tr>\n",
       "    <tr>\n",
       "      <th>Metric</th>\n",
       "      <th></th>\n",
       "    </tr>\n",
       "  </thead>\n",
       "  <tbody>\n",
       "    <tr>\n",
       "      <th>Risk-Free Rate</th>\n",
       "      <td>0.0%</td>\n",
       "    </tr>\n",
       "    <tr>\n",
       "      <th>Time in Market</th>\n",
       "      <td>100.0%</td>\n",
       "    </tr>\n",
       "    <tr>\n",
       "      <th></th>\n",
       "      <td></td>\n",
       "    </tr>\n",
       "    <tr>\n",
       "      <th>Total Return</th>\n",
       "      <td>-29%</td>\n",
       "    </tr>\n",
       "    <tr>\n",
       "      <th>CAGR% (Annual Return)</th>\n",
       "      <td>-21.63%</td>\n",
       "    </tr>\n",
       "    <tr>\n",
       "      <th></th>\n",
       "      <td></td>\n",
       "    </tr>\n",
       "    <tr>\n",
       "      <th>Sharpe</th>\n",
       "      <td>-0.04</td>\n",
       "    </tr>\n",
       "    <tr>\n",
       "      <th>RoMaD</th>\n",
       "      <td>-0.49</td>\n",
       "    </tr>\n",
       "    <tr>\n",
       "      <th>Prob. Sharpe Ratio</th>\n",
       "      <td>48.14%</td>\n",
       "    </tr>\n",
       "    <tr>\n",
       "      <th>Smart Sharpe</th>\n",
       "      <td>-0.04</td>\n",
       "    </tr>\n",
       "    <tr>\n",
       "      <th>Sortino</th>\n",
       "      <td>-0.06</td>\n",
       "    </tr>\n",
       "    <tr>\n",
       "      <th>Smart Sortino</th>\n",
       "      <td>-0.06</td>\n",
       "    </tr>\n",
       "    <tr>\n",
       "      <th>Sortino/√2</th>\n",
       "      <td>-0.04</td>\n",
       "    </tr>\n",
       "    <tr>\n",
       "      <th>Smart Sortino/√2</th>\n",
       "      <td>-0.04</td>\n",
       "    </tr>\n",
       "    <tr>\n",
       "      <th>Omega</th>\n",
       "      <td>0.99</td>\n",
       "    </tr>\n",
       "    <tr>\n",
       "      <th></th>\n",
       "      <td></td>\n",
       "    </tr>\n",
       "    <tr>\n",
       "      <th>Max Drawdown</th>\n",
       "      <td>-43.82%</td>\n",
       "    </tr>\n",
       "    <tr>\n",
       "      <th>Longest DD Days</th>\n",
       "      <td>359</td>\n",
       "    </tr>\n",
       "    <tr>\n",
       "      <th>Volatility (ann.)</th>\n",
       "      <td>66.88%</td>\n",
       "    </tr>\n",
       "    <tr>\n",
       "      <th>Calmar</th>\n",
       "      <td>-0.49</td>\n",
       "    </tr>\n",
       "    <tr>\n",
       "      <th>Skew</th>\n",
       "      <td>1.67</td>\n",
       "    </tr>\n",
       "    <tr>\n",
       "      <th>Kurtosis</th>\n",
       "      <td>16.15</td>\n",
       "    </tr>\n",
       "    <tr>\n",
       "      <th></th>\n",
       "      <td></td>\n",
       "    </tr>\n",
       "    <tr>\n",
       "      <th>Expected Daily%</th>\n",
       "      <td>-0.07%</td>\n",
       "    </tr>\n",
       "    <tr>\n",
       "      <th>Expected Monthly%</th>\n",
       "      <td>-1.88%</td>\n",
       "    </tr>\n",
       "    <tr>\n",
       "      <th>Expected Yearly%</th>\n",
       "      <td>-10.76%</td>\n",
       "    </tr>\n",
       "    <tr>\n",
       "      <th>Daily Value-at-Risk</th>\n",
       "      <td>-5.77%</td>\n",
       "    </tr>\n",
       "    <tr>\n",
       "      <th>Expected Shortfall (cVaR)</th>\n",
       "      <td>-5.77%</td>\n",
       "    </tr>\n",
       "    <tr>\n",
       "      <th></th>\n",
       "      <td></td>\n",
       "    </tr>\n",
       "    <tr>\n",
       "      <th>MTD</th>\n",
       "      <td>-17.82%</td>\n",
       "    </tr>\n",
       "    <tr>\n",
       "      <th>3M</th>\n",
       "      <td>-16.64%</td>\n",
       "    </tr>\n",
       "    <tr>\n",
       "      <th>6M</th>\n",
       "      <td>-31.17%</td>\n",
       "    </tr>\n",
       "    <tr>\n",
       "      <th>YTD</th>\n",
       "      <td>-23.34%</td>\n",
       "    </tr>\n",
       "    <tr>\n",
       "      <th>1Y</th>\n",
       "      <td>-20.97%</td>\n",
       "    </tr>\n",
       "    <tr>\n",
       "      <th>3Y (ann.)</th>\n",
       "      <td>-21.63%</td>\n",
       "    </tr>\n",
       "    <tr>\n",
       "      <th>5Y (ann.)</th>\n",
       "      <td>-21.63%</td>\n",
       "    </tr>\n",
       "    <tr>\n",
       "      <th>10Y (ann.)</th>\n",
       "      <td>-21.63%</td>\n",
       "    </tr>\n",
       "    <tr>\n",
       "      <th>All-time (ann.)</th>\n",
       "      <td>-21.63%</td>\n",
       "    </tr>\n",
       "    <tr>\n",
       "      <th></th>\n",
       "      <td></td>\n",
       "    </tr>\n",
       "    <tr>\n",
       "      <th>Best Day</th>\n",
       "      <td>32.8%</td>\n",
       "    </tr>\n",
       "    <tr>\n",
       "      <th>Worst Day</th>\n",
       "      <td>-16.19%</td>\n",
       "    </tr>\n",
       "    <tr>\n",
       "      <th>Best Month</th>\n",
       "      <td>33.14%</td>\n",
       "    </tr>\n",
       "    <tr>\n",
       "      <th>Worst Month</th>\n",
       "      <td>-17.82%</td>\n",
       "    </tr>\n",
       "    <tr>\n",
       "      <th>Best Year</th>\n",
       "      <td>-1.62%</td>\n",
       "    </tr>\n",
       "    <tr>\n",
       "      <th>Worst Year</th>\n",
       "      <td>-23.34%</td>\n",
       "    </tr>\n",
       "    <tr>\n",
       "      <th></th>\n",
       "      <td></td>\n",
       "    </tr>\n",
       "    <tr>\n",
       "      <th>Avg. Drawdown</th>\n",
       "      <td>-14.76%</td>\n",
       "    </tr>\n",
       "    <tr>\n",
       "      <th>Avg. Drawdown Days</th>\n",
       "      <td>56</td>\n",
       "    </tr>\n",
       "    <tr>\n",
       "      <th>Recovery Factor</th>\n",
       "      <td>0.08</td>\n",
       "    </tr>\n",
       "    <tr>\n",
       "      <th>Ulcer Index</th>\n",
       "      <td>0.27</td>\n",
       "    </tr>\n",
       "    <tr>\n",
       "      <th>Serenity Index</th>\n",
       "      <td>-0.01</td>\n",
       "    </tr>\n",
       "    <tr>\n",
       "      <th></th>\n",
       "      <td></td>\n",
       "    </tr>\n",
       "    <tr>\n",
       "      <th>Avg. Up Month</th>\n",
       "      <td>9.12%</td>\n",
       "    </tr>\n",
       "    <tr>\n",
       "      <th>Avg. Down Month</th>\n",
       "      <td>-7.89%</td>\n",
       "    </tr>\n",
       "    <tr>\n",
       "      <th>Win Days</th>\n",
       "      <td>247.0</td>\n",
       "    </tr>\n",
       "    <tr>\n",
       "      <th>Loss Days</th>\n",
       "      <td>266.0</td>\n",
       "    </tr>\n",
       "    <tr>\n",
       "      <th>Win Days%</th>\n",
       "      <td>48.15%</td>\n",
       "    </tr>\n",
       "    <tr>\n",
       "      <th>Win Month%</th>\n",
       "      <td>38.89%</td>\n",
       "    </tr>\n",
       "    <tr>\n",
       "      <th>Win Quarter%</th>\n",
       "      <td>42.86%</td>\n",
       "    </tr>\n",
       "    <tr>\n",
       "      <th>Win Year%</th>\n",
       "      <td>0.0%</td>\n",
       "    </tr>\n",
       "  </tbody>\n",
       "</table>\n",
       "</div>"
      ],
      "text/plain": [
       "                          Strategy\n",
       "Metric                            \n",
       "Risk-Free Rate                0.0%\n",
       "Time in Market              100.0%\n",
       "                                  \n",
       "Total Return                  -29%\n",
       "CAGR% (Annual Return)      -21.63%\n",
       "                                  \n",
       "Sharpe                       -0.04\n",
       "RoMaD                        -0.49\n",
       "Prob. Sharpe Ratio          48.14%\n",
       "Smart Sharpe                 -0.04\n",
       "Sortino                      -0.06\n",
       "Smart Sortino                -0.06\n",
       "Sortino/√2                   -0.04\n",
       "Smart Sortino/√2             -0.04\n",
       "Omega                         0.99\n",
       "                                  \n",
       "Max Drawdown               -43.82%\n",
       "Longest DD Days                359\n",
       "Volatility (ann.)           66.88%\n",
       "Calmar                       -0.49\n",
       "Skew                          1.67\n",
       "Kurtosis                     16.15\n",
       "                                  \n",
       "Expected Daily%             -0.07%\n",
       "Expected Monthly%           -1.88%\n",
       "Expected Yearly%           -10.76%\n",
       "Daily Value-at-Risk         -5.77%\n",
       "Expected Shortfall (cVaR)   -5.77%\n",
       "                                  \n",
       "MTD                        -17.82%\n",
       "3M                         -16.64%\n",
       "6M                         -31.17%\n",
       "YTD                        -23.34%\n",
       "1Y                         -20.97%\n",
       "3Y (ann.)                  -21.63%\n",
       "5Y (ann.)                  -21.63%\n",
       "10Y (ann.)                 -21.63%\n",
       "All-time (ann.)            -21.63%\n",
       "                                  \n",
       "Best Day                     32.8%\n",
       "Worst Day                  -16.19%\n",
       "Best Month                  33.14%\n",
       "Worst Month                -17.82%\n",
       "Best Year                   -1.62%\n",
       "Worst Year                 -23.34%\n",
       "                                  \n",
       "Avg. Drawdown              -14.76%\n",
       "Avg. Drawdown Days              56\n",
       "Recovery Factor               0.08\n",
       "Ulcer Index                   0.27\n",
       "Serenity Index               -0.01\n",
       "                                  \n",
       "Avg. Up Month                9.12%\n",
       "Avg. Down Month             -7.89%\n",
       "Win Days                     247.0\n",
       "Loss Days                    266.0\n",
       "Win Days%                   48.15%\n",
       "Win Month%                  38.89%\n",
       "Win Quarter%                42.86%\n",
       "Win Year%                     0.0%"
      ]
     },
     "execution_count": 11,
     "metadata": {},
     "output_type": "execute_result"
    }
   ],
   "source": [
    "qs.reports.html(\n",
    "    daily_returns,\n",
    "    output=\"macd_strategy_report.html\",\n",
    "    title=\"MACD Strategy Performance on ADA/USDT\",\n",
    ")"
   ]
  },
  {
   "cell_type": "code",
   "execution_count": null,
   "id": "2fac0b64",
   "metadata": {},
   "outputs": [],
   "source": []
  }
 ],
 "metadata": {
  "kernelspec": {
   "display_name": ".venv (3.12.6)",
   "language": "python",
   "name": "python3"
  },
  "language_info": {
   "codemirror_mode": {
    "name": "ipython",
    "version": 3
   },
   "file_extension": ".py",
   "mimetype": "text/x-python",
   "name": "python",
   "nbconvert_exporter": "python",
   "pygments_lexer": "ipython3",
   "version": "3.12.6"
  }
 },
 "nbformat": 4,
 "nbformat_minor": 5
}
