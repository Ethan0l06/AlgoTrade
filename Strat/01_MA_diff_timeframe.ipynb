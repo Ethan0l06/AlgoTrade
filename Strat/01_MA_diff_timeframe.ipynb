{
 "cells": [
  {
   "cell_type": "markdown",
   "id": "980f2fb4",
   "metadata": {},
   "source": [
    "Mainly serve as a template for future strategies. The template use simple moving average (SMA) of different timeframes to generate buy and sell signals. The higher timeframe SMA is used to generate the trend, and the lower timeframe SMA is used to generate the entry and exit points."
   ]
  },
  {
   "cell_type": "code",
   "execution_count": null,
   "id": "d5ab2409",
   "metadata": {},
   "outputs": [],
   "source": [
    "from typing_extensions import Dict\n",
    "import optuna\n",
    "import pandas as pd\n",
    "import numpy as np\n",
    "import talib as ta\n",
    "# --- Our Imports ---\n",
    "from AlgoTrade.Utils.DataManager import DataManager\n",
    "from AlgoTrade.Config.BacktestConfig import BacktestConfig\n",
    "from AlgoTrade.Backtester.BacktestRunner import BacktestRunner\n",
    "from AlgoTrade.Optimizer.StudyRunner import run_optimization"
   ]
  },
  {
   "cell_type": "code",
   "execution_count": 2,
   "id": "1d14c59a",
   "metadata": {},
   "outputs": [
    {
     "name": "stdout",
     "output_type": "stream",
     "text": [
      "Loading data from d:\\ComputerScience\\Trading\\Quant2\\data\\bitget\\ADA_USDT_USDT_15m.csv...\n",
      "Load completed successfully. Data shape: (16960, 6)\n",
      "Loading data from d:\\ComputerScience\\Trading\\Quant2\\data\\bitget\\ADA_USDT_USDT_4h.csv...\n",
      "Load completed successfully. Data shape: (874, 5)\n"
     ]
    },
    {
     "name": "stderr",
     "output_type": "stream",
     "text": [
      "d:\\ComputerScience\\Trading\\Quant2\\StrategyLab\\Utils\\DataManager.py:291: UserWarning: Parsing dates in %d/%m/%Y %H:%M format when dayfirst=False (the default) was specified. Pass `dayfirst=True` or specify a format to silence this warning.\n",
      "  data.index = pd.to_datetime(data.index)\n"
     ]
    }
   ],
   "source": [
    "dm = DataManager(name=\"bitget\")\n",
    "ohlcv_data_s = dm.from_local(\"ADA/USDT:USDT\", \"15m\", \"2024-12-01\")\n",
    "ohlcv_data_l = dm.from_local(\"ADA/USDT:USDT\", \"4h\", \"2025-01-01\")"
   ]
  },
  {
   "cell_type": "code",
   "execution_count": 3,
   "id": "d2274b24",
   "metadata": {},
   "outputs": [],
   "source": [
    "def pre_process_data(df1: pd.DataFrame, df2: pd.DataFrame):\n",
    "    df1[\"datetime\"] = df1.index\n",
    "    df1.reset_index(drop=True, inplace=True)\n",
    "    df2[\"datetime\"] = df2.index\n",
    "    df2.reset_index(drop=True, inplace=True)\n",
    "    print(\"Data preprocessed.\")\n",
    "    return df1, df2"
   ]
  },
  {
   "cell_type": "code",
   "execution_count": 4,
   "id": "d6f0c588",
   "metadata": {},
   "outputs": [],
   "source": [
    "def compute_indicators_df1(\n",
    "    df1: pd.DataFrame,\n",
    "    period_df1: int,\n",
    "):\n",
    "    df1[\"MA\"] = ta.SMA(df1[\"close\"], timeperiod=period_df1)\n",
    "    df1[\"STDDEV\"] = ta.STDDEV(df1[\"close\"], timeperiod=14)\n",
    "    df1[\"ATR\"] = ta.ATR(df1[\"high\"], df1[\"low\"], df1[\"close\"], timeperiod=14)\n",
    "    df1[\"SD_ATR_Spread\"] = df1[\"STDDEV\"] - df1[\"ATR\"]\n",
    "    print(\"Indicators computed (df1).\")\n",
    "    return df1\n",
    "\n",
    "\n",
    "def compute_indicators_df2(df2: pd.DataFrame, period_df2: int):\n",
    "    df2[\"MA\"] = ta.SMA(df2[\"close\"], timeperiod=period_df2)\n",
    "    trend = np.where(df2[\"close\"] > df2[\"MA\"], 1, -1)\n",
    "    df2[\"trend\"] = pd.Series(trend).shift(1).fillna(0)\n",
    "    print(\"Indicators computed (df2).\")\n",
    "    return df2\n",
    "\n",
    "\n",
    "def merge_htf_into_ltf(df_ltf, df_htf, suffix):\n",
    "    df_ltf = df_ltf.copy()\n",
    "    df_htf = df_htf.copy()\n",
    "    df_ltf[\"datetime\"] = pd.to_datetime(df_ltf[\"datetime\"])\n",
    "    df_htf[\"datetime\"] = pd.to_datetime(df_htf[\"datetime\"])\n",
    "    df_ltf.set_index(\"datetime\", inplace=True)\n",
    "    df_htf.set_index(\"datetime\", inplace=True)\n",
    "    df_htf = df_htf.shift(1)\n",
    "    df_htf_resampled = df_htf.reindex(df_ltf.index, method=\"ffill\")\n",
    "    df_merged = df_ltf.join(df_htf_resampled, rsuffix=suffix)\n",
    "    df_merged.dropna(inplace=True)\n",
    "    return df_merged.reset_index()"
   ]
  },
  {
   "cell_type": "code",
   "execution_count": 5,
   "id": "4ad75e55",
   "metadata": {},
   "outputs": [
    {
     "name": "stdout",
     "output_type": "stream",
     "text": [
      "Data preprocessed.\n",
      "Indicators computed (df1).\n",
      "Indicators computed (df2).\n"
     ]
    }
   ],
   "source": [
    "df1, df2 = pre_process_data(ohlcv_data_s, ohlcv_data_l)\n",
    "df1 = compute_indicators_df1(df1, 90)\n",
    "df2 = compute_indicators_df2(df2, 14)"
   ]
  },
  {
   "cell_type": "code",
   "execution_count": 6,
   "id": "c3581ce0",
   "metadata": {},
   "outputs": [],
   "source": [
    "merge_df = merge_htf_into_ltf(df1, df2, suffix=\"_4h\")\n"
   ]
  },
  {
   "cell_type": "code",
   "execution_count": 7,
   "id": "a2aa4431",
   "metadata": {},
   "outputs": [],
   "source": [
    "def compute_signals(merged_df: pd.DataFrame):\n",
    "    signal = np.where(\n",
    "        (merged_df[\"trend\"] == 1)\n",
    "        & (merged_df[\"close\"] > merged_df[\"MA\"])\n",
    "        & (merged_df[\"SD_ATR_Spread\"] > 0),\n",
    "        1,\n",
    "        np.where(\n",
    "            (merged_df[\"trend\"] == -1)\n",
    "            & (merged_df[\"close\"] < merged_df[\"MA\"])\n",
    "            & (merged_df[\"SD_ATR_Spread\"] > 0),\n",
    "            -1,\n",
    "            0,\n",
    "        ),\n",
    "    )\n",
    "    merged_df[\"signal\"] = pd.Series(signal, index=merged_df.index).shift(1).fillna(0)\n",
    "    return merged_df"
   ]
  },
  {
   "cell_type": "code",
   "execution_count": 8,
   "id": "86a8b9ea",
   "metadata": {},
   "outputs": [],
   "source": [
    "solution = compute_signals(merge_df)"
   ]
  },
  {
   "cell_type": "markdown",
   "id": "bd0f76ac",
   "metadata": {},
   "source": [
    "# Set datetime to index to use the backtest"
   ]
  },
  {
   "cell_type": "code",
   "execution_count": 9,
   "id": "b05d0c51",
   "metadata": {},
   "outputs": [],
   "source": [
    "solution.set_index('datetime', inplace=True)"
   ]
  },
  {
   "cell_type": "markdown",
   "id": "ee062196",
   "metadata": {},
   "source": [
    "# Select Position Sizing Method"
   ]
  },
  {
   "cell_type": "code",
   "execution_count": 10,
   "id": "00df8850",
   "metadata": {},
   "outputs": [],
   "source": [
    "config = BacktestConfig(\n",
    "    initial_balance=100.0,\n",
    "    trading_mode=\"Cross\",\n",
    "    leverage=100,\n",
    "    position_sizing_method=\"PercentBalance\",\n",
    "    percent_balance_pct=0.1,  # <-- UPDATED\n",
    "    exit_on_signal_0=True,\n",
    "    # General SL/TP can be used as a fallback\n",
    "    stop_loss_pct=0.02,\n",
    "    take_profit_pct=0.02,\n",
    ")"
   ]
  },
  {
   "cell_type": "code",
   "execution_count": 11,
   "id": "aa78eed6",
   "metadata": {},
   "outputs": [
    {
     "name": "stdout",
     "output_type": "stream",
     "text": [
      "Starting backtest...\n",
      "Backtest finished.\n",
      "\n",
      "--- Backtest Results ---\n",
      "Period: [2025-01-03] -> [2025-05-26]\n",
      "Initial Balance:        100.00\n",
      "Final Balance:          0.00\n",
      "ROI:                    -100.00%\n",
      "Profit:                 154.39\n",
      "Loss:                   254.39\n",
      "Sharpe Ratio:           -6.46\n",
      "Sortino Ratio:          -9.81\n",
      "Calmar Ratio:           -1.00\n",
      "Max Drawdown:           100.00%\n",
      "Total Trades:           671\n",
      "Total Good Trades:      269\n",
      "Total Bad Trades:       402\n",
      "Avg PnL Good Trades:    93.82%\n",
      "Avg PnL Bad Trades:     -83.80%\n",
      "Win Rate:               40.09%\n",
      "Loss Rate:              59.91%\n",
      "Profit Factor:          0.61\n"
     ]
    }
   ],
   "source": [
    "runner = BacktestRunner(config=config, data=solution)\n",
    "analysis = runner.run()\n",
    "analysis.print_metrics()"
   ]
  },
  {
   "cell_type": "code",
   "execution_count": 12,
   "id": "9f856106",
   "metadata": {},
   "outputs": [],
   "source": [
    "ex = analysis.results_df"
   ]
  },
  {
   "cell_type": "markdown",
   "id": "93abf30e",
   "metadata": {},
   "source": [
    "# Select All Position Sizing Method"
   ]
  },
  {
   "cell_type": "code",
   "execution_count": 17,
   "id": "d4fce9a2",
   "metadata": {},
   "outputs": [],
   "source": [
    "base_config = BacktestConfig(\n",
    "    initial_balance=100.0,\n",
    "    trading_mode=\"Cross\",\n",
    "    leverage=10,\n",
    "    # --- Parameters for all sizing methods ---\n",
    "    # For PercentBalance\n",
    "    percent_balance_pct=0.1,\n",
    "    # For FixedAmount\n",
    "    fixed_amount_size=20.0,  # $20 margin per trade\n",
    "    stop_loss_pct=0.02,\n",
    "    take_profit_pct=0.02,\n",
    "    # For AtrVolatility\n",
    "    atr_volatility_risk_pct=0.02,\n",
    "    atr_volatility_period=14,\n",
    "    atr_volatility_multiplier=2.5,\n",
    "    # For KellyCriterion\n",
    "    kelly_criterion_lookback=50,\n",
    "    kelly_criterion_fraction=0.5,\n",
    "    # For AtrBands\n",
    "    atr_bands_risk_pct=0.02,\n",
    "    atr_bands_period=14,\n",
    "    atr_bands_multiplier=2.0,\n",
    "    atr_bands_risk_reward_ratio=1.5,\n",
    ")"
   ]
  },
  {
   "cell_type": "code",
   "execution_count": null,
   "id": "a8f4ddb2",
   "metadata": {},
   "outputs": [],
   "source": [
    "from AlgoTrade.Backtester import ComparativeRunner as cr"
   ]
  },
  {
   "cell_type": "code",
   "execution_count": 19,
   "id": "224d1d29",
   "metadata": {},
   "outputs": [
    {
     "name": "stdout",
     "output_type": "stream",
     "text": [
      "\n",
      "--------------------------------------------------\n",
      "--- Running Backtest for: PercentBalance ---\n",
      "--------------------------------------------------\n",
      "Starting backtest...\n",
      "Backtest finished.\n",
      "\n",
      "--------------------------------------------------\n",
      "--- Running Backtest for: FixedAmount ---\n",
      "--------------------------------------------------\n",
      "Starting backtest...\n",
      "Backtest finished.\n",
      "\n",
      "--------------------------------------------------\n",
      "--- Running Backtest for: AtrVolatility ---\n",
      "--------------------------------------------------\n",
      "Starting backtest...\n",
      "Backtest finished.\n",
      "\n",
      "--------------------------------------------------\n",
      "--- Running Backtest for: KellyCriterion ---\n",
      "--------------------------------------------------\n",
      "Starting backtest...\n",
      "Backtest finished.\n",
      "\n",
      "--------------------------------------------------\n",
      "--- Running Backtest for: AtrBands ---\n",
      "--------------------------------------------------\n",
      "Starting backtest...\n",
      "Backtest finished.\n"
     ]
    }
   ],
   "source": [
    "res = cr.run_comparative_analysis(base_config, solution)"
   ]
  },
  {
   "cell_type": "code",
   "execution_count": 20,
   "id": "163c643f",
   "metadata": {},
   "outputs": [
    {
     "name": "stdout",
     "output_type": "stream",
     "text": [
      "\n",
      "================================================================================\n",
      "                    Comprehensive Backtest Comparison Report\n",
      "================================================================================\n",
      "Period: [2025-01-03] -> [2025-05-26]\n",
      "Method                  PercentBalance FixedAmount AtrVolatility  \\\n",
      "initial_balance                $100.00     $100.00       $100.00   \n",
      "final_balance                   $56.41      $19.95        $84.24   \n",
      "roi_pct                        -43.59%     -80.05%       -15.76%   \n",
      "total_profits                  $272.98     $376.31       $313.21   \n",
      "total_losses                   $316.86     $456.36       $329.62   \n",
      "sharpe_ratio                    -1.906      -1.625        -0.318   \n",
      "sortino_ratio                   -2.953      -1.653        -0.703   \n",
      "calmar_ratio                    -1.551      -1.225        -1.148   \n",
      "max_drawdown_equity             49.53%      80.28%        30.87%   \n",
      "total_trades                       429         209           394   \n",
      "total_good_trades                  210          98           208   \n",
      "total_bad_trades                   219         111           186   \n",
      "avg_pnl_pct_good_trades        19.039%     19.200%       19.106%   \n",
      "avg_pnl_pct_bad_trades        -20.507%    -20.557%      -23.182%   \n",
      "global_win_rate                 48.95%      46.89%        52.79%   \n",
      "profit_factor                     0.86        0.82          0.95   \n",
      "\n",
      "Method                  KellyCriterion  AtrBands  \n",
      "initial_balance                $100.00   $100.00  \n",
      "final_balance                   $98.40    $62.47  \n",
      "roi_pct                         -1.60%   -37.53%  \n",
      "total_profits                    $4.18   $322.84  \n",
      "total_losses                     $5.78   $360.98  \n",
      "sharpe_ratio                    -1.820    -1.202  \n",
      "sortino_ratio                   -0.722    -2.574  \n",
      "calmar_ratio                    -2.185    -1.368  \n",
      "max_drawdown_equity              1.84%    51.10%  \n",
      "total_trades                        50       400  \n",
      "total_good_trades                   22       161  \n",
      "total_bad_trades                    28       239  \n",
      "avg_pnl_pct_good_trades        19.193%   25.023%  \n",
      "avg_pnl_pct_bad_trades        -20.790%  -19.082%  \n",
      "global_win_rate                 44.00%    40.25%  \n",
      "profit_factor                     0.72      0.89  \n",
      "================================================================================\n"
     ]
    }
   ],
   "source": [
    "cr.print_comparison_report(res)"
   ]
  },
  {
   "cell_type": "markdown",
   "id": "3d95d715",
   "metadata": {},
   "source": [
    "# Optimizer\n",
    "\n"
   ]
  },
  {
   "cell_type": "code",
   "execution_count": 9,
   "id": "f8905fed",
   "metadata": {},
   "outputs": [],
   "source": [
    "def generate_signals_for_trial(\n",
    "    trial: optuna.trial.Trial, data_dict: Dict[str, pd.DataFrame]\n",
    ") -> pd.DataFrame:\n",
    "    \"\"\"\n",
    "    This function is passed to the optimizer. It defines the parameters to tune\n",
    "    and returns a DataFrame with a 'signal' column.\n",
    "    \"\"\"\n",
    "    # 1. Define the parameters you want to optimize for this strategy\n",
    "    ltf_ma_period = trial.suggest_int(\"ltf_ma_period\", 20, 100, step=5)\n",
    "    htf_ma_period = trial.suggest_int(\"htf_ma_period\", 5, 50, step=1)\n",
    "    # You could also tune other things, e.g., a volatility filter threshold\n",
    "    # min_spread = trial.suggest_float(\"min_spread\", -0.0001, 0.0001)\n",
    "\n",
    "    # 2. Get the data\n",
    "    df1, df2 = pre_process_data(\n",
    "        data_dict[\"ltf_data\"].copy(), data_dict[\"htf_data\"].copy()\n",
    "    )\n",
    "\n",
    "    # 3. Calculate indicators using the trial's parameters\n",
    "    df1 = compute_indicators_df1(df1, period_df1=ltf_ma_period)\n",
    "    df2 = compute_indicators_df2(df2, period_df2=htf_ma_period)\n",
    "\n",
    "    # 4. Merge and compute final signal\n",
    "    merged_df = merge_htf_into_ltf(df1, df2, suffix=\"_4h\")\n",
    "    solution_df = compute_signals(merged_df)\n",
    "\n",
    "    # 5. Set index and return\n",
    "    solution_df.set_index(\"datetime\", inplace=True)\n",
    "    return solution_df"
   ]
  },
  {
   "cell_type": "code",
   "execution_count": 10,
   "id": "39d773c1",
   "metadata": {},
   "outputs": [],
   "source": [
    "data_dictionary = {\n",
    "    \"ltf_data\": ohlcv_data_s,\n",
    "    \"htf_data\": ohlcv_data_l,\n",
    "}\n",
    "\n",
    "fixed_config = BacktestConfig(\n",
    "    initial_balance=100.0,\n",
    "    trading_mode=\"Cross\",\n",
    "    leverage=10,\n",
    "    position_sizing_method=\"AtrBands\",\n",
    "    atr_bands_risk_pct=0.01,\n",
    "    atr_bands_period=14,\n",
    "    atr_bands_multiplier=2.0,\n",
    "    atr_bands_risk_reward_ratio=1.5,\n",
    "    exit_on_signal_0=False,\n",
    "    allow_reverse_trade=False,\n",
    ")"
   ]
  },
  {
   "cell_type": "code",
   "execution_count": null,
   "id": "9858aced",
   "metadata": {},
   "outputs": [],
   "source": [
    "print(\"\\n--- Running Strategy Optimization ---\")\n",
    "run_optimization(\n",
    "    data_dict=data_dictionary,\n",
    "    config=fixed_config,\n",
    "    strategy_function=generate_signals_for_trial,\n",
    "    n_trials=10,\n",
    "    metric_to_optimize=\"sharpe_ratio\"\n",
    ")\n"
   ]
  },
  {
   "cell_type": "code",
   "execution_count": null,
   "id": "015a7adf",
   "metadata": {},
   "outputs": [],
   "source": []
  }
 ],
 "metadata": {
  "kernelspec": {
   "display_name": ".venv",
   "language": "python",
   "name": "python3"
  },
  "language_info": {
   "codemirror_mode": {
    "name": "ipython",
    "version": 3
   },
   "file_extension": ".py",
   "mimetype": "text/x-python",
   "name": "python",
   "nbconvert_exporter": "python",
   "pygments_lexer": "ipython3",
   "version": "3.12.6"
  }
 },
 "nbformat": 4,
 "nbformat_minor": 5
}
