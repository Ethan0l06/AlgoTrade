{
 "cells": [
  {
   "cell_type": "markdown",
   "id": "980f2fb4",
   "metadata": {},
   "source": [
    "Mainly serve as a template for future strategies. The template use simple moving average (SMA) of different timeframes to generate buy and sell signals. The higher timeframe SMA is used to generate the trend, and the lower timeframe SMA is used to generate the entry and exit points."
   ]
  },
  {
   "cell_type": "code",
   "execution_count": 1,
   "id": "d5ab2409",
   "metadata": {},
   "outputs": [],
   "source": [
    "from typing_extensions import Dict\n",
    "import optuna\n",
    "import pandas as pd\n",
    "import numpy as np\n",
    "import talib as ta\n",
    "# --- Our Imports ---\n",
    "from AlgoTrade.Utils.DataManager import DataManager\n",
    "from AlgoTrade.Config.BacktestConfig import BacktestConfig\n",
    "from AlgoTrade.Backtester.BacktestRunner import BacktestRunner\n",
    "from AlgoTrade.Factories.IndicatorFactory import IndicatorFactory\n",
    "from AlgoTrade.Optimizer.StudyRunner import run_optimization"
   ]
  },
  {
   "cell_type": "code",
   "execution_count": 2,
   "id": "1d14c59a",
   "metadata": {},
   "outputs": [
    {
     "name": "stdout",
     "output_type": "stream",
     "text": [
      "Loading data from d:\\ComputerScience\\Trading\\Quant2\\data\\bitget\\ADA_USDT_USDT_15m.csv...\n",
      "Load completed successfully. Data shape: (16960, 6)\n",
      "Loading data from d:\\ComputerScience\\Trading\\Quant2\\data\\bitget\\ADA_USDT_USDT_1h.csv...\n",
      "Load completed successfully. Data shape: (3972, 5)\n"
     ]
    },
    {
     "name": "stderr",
     "output_type": "stream",
     "text": [
      "d:\\ComputerScience\\Trading\\Quant2\\AlgoTrade\\Utils\\DataManager.py:289: UserWarning: Parsing dates in %d/%m/%Y %H:%M format when dayfirst=False (the default) was specified. Pass `dayfirst=True` or specify a format to silence this warning.\n",
      "  data.index = pd.to_datetime(data.index)\n"
     ]
    }
   ],
   "source": [
    "dm = DataManager(name=\"bitget\")\n",
    "ohlcv_data_s = dm.from_local(\"ADA/USDT:USDT\", \"15m\", \"2024-12-01\")\n",
    "ohlcv_data_l = dm.from_local(\"ADA/USDT:USDT\", \"1h\", \"2025-01-01\")"
   ]
  },
  {
   "cell_type": "code",
   "execution_count": 3,
   "id": "d2274b24",
   "metadata": {},
   "outputs": [],
   "source": [
    "def pre_process_data(df1: pd.DataFrame, df2: pd.DataFrame):\n",
    "    df1[\"datetime\"] = df1.index\n",
    "    df1.reset_index(drop=True, inplace=True)\n",
    "    df2[\"datetime\"] = df2.index\n",
    "    df2.reset_index(drop=True, inplace=True)\n",
    "    print(\"Data preprocessed.\")\n",
    "    return df1, df2"
   ]
  },
  {
   "cell_type": "code",
   "execution_count": 4,
   "id": "d6f0c588",
   "metadata": {},
   "outputs": [],
   "source": [
    "def merge_htf_into_ltf(df_ltf, df_htf, suffix):\n",
    "    df_ltf = df_ltf.copy()\n",
    "    df_htf = df_htf.copy()\n",
    "    df_ltf[\"datetime\"] = pd.to_datetime(df_ltf[\"datetime\"])\n",
    "    df_htf[\"datetime\"] = pd.to_datetime(df_htf[\"datetime\"])\n",
    "    df_ltf.set_index(\"datetime\", inplace=True)\n",
    "    df_htf.set_index(\"datetime\", inplace=True)\n",
    "    df_htf = df_htf.shift(1)\n",
    "    df_htf_resampled = df_htf.reindex(df_ltf.index, method=\"ffill\")\n",
    "    df_merged = df_ltf.join(df_htf_resampled, rsuffix=suffix)\n",
    "    df_merged.dropna(inplace=True)\n",
    "    return df_merged.reset_index()"
   ]
  },
  {
   "cell_type": "code",
   "execution_count": 5,
   "id": "4ad75e55",
   "metadata": {},
   "outputs": [
    {
     "name": "stdout",
     "output_type": "stream",
     "text": [
      "Data preprocessed.\n"
     ]
    }
   ],
   "source": [
    "df1, df2 = pre_process_data(ohlcv_data_s, ohlcv_data_l)\n",
    "ltf_factory = IndicatorFactory(df1)\n",
    "htf_factory = IndicatorFactory(df2)\n",
    "df1 = ltf_factory.add_ema(20).add_ema(10).get_data()\n",
    "df2 = htf_factory.add_ema(20).add_ema(10).get_data()"
   ]
  },
  {
   "cell_type": "code",
   "execution_count": null,
   "id": "c3581ce0",
   "metadata": {},
   "outputs": [],
   "source": [
    "merge_df = merge_htf_into_ltf(df1, df2, suffix=\"_4h\")\n"
   ]
  },
  {
   "cell_type": "code",
   "execution_count": null,
   "id": "a2aa4431",
   "metadata": {},
   "outputs": [],
   "source": [
    "def compute_signals(merged_df: pd.DataFrame):\n",
    "    signal = np.where(\n",
    "        (merged_df[\"trend\"] == 1)\n",
    "        & (merged_df[\"close\"] > merged_df[\"MA\"])\n",
    "        & (merged_df[\"SD_ATR_Spread\"] > 0),\n",
    "        1,\n",
    "        np.where(\n",
    "            (merged_df[\"trend\"] == -1)\n",
    "            & (merged_df[\"close\"] < merged_df[\"MA\"])\n",
    "            & (merged_df[\"SD_ATR_Spread\"] > 0),\n",
    "            -1,\n",
    "            0,\n",
    "        ),\n",
    "    )\n",
    "    merged_df[\"signal\"] = pd.Series(signal, index=merged_df.index).shift(1).fillna(0)\n",
    "    return merged_df"
   ]
  },
  {
   "cell_type": "code",
   "execution_count": null,
   "id": "86a8b9ea",
   "metadata": {},
   "outputs": [],
   "source": [
    "solution = compute_signals(merge_df)"
   ]
  },
  {
   "cell_type": "markdown",
   "id": "bd0f76ac",
   "metadata": {},
   "source": [
    "# Set datetime to index to use the backtest"
   ]
  },
  {
   "cell_type": "code",
   "execution_count": null,
   "id": "b05d0c51",
   "metadata": {},
   "outputs": [],
   "source": [
    "solution.set_index('datetime', inplace=True)"
   ]
  },
  {
   "cell_type": "markdown",
   "id": "ee062196",
   "metadata": {},
   "source": [
    "# Select Position Sizing Method"
   ]
  },
  {
   "cell_type": "code",
   "execution_count": null,
   "id": "00df8850",
   "metadata": {},
   "outputs": [],
   "source": [
    "config = BacktestConfig(\n",
    "    initial_balance=100.0,\n",
    "    trading_mode=\"Cross\",\n",
    "    leverage=10,\n",
    "    position_sizing_method=\"PercentBalance\",\n",
    "    percent_balance_pct=0.1,  # <-- UPDATED\n",
    "    exit_on_signal_0=True,\n",
    "    # General SL/TP can be used as a fallback\n",
    "    stop_loss_pct=0.02,\n",
    "    take_profit_pct=0.02,\n",
    ")"
   ]
  },
  {
   "cell_type": "code",
   "execution_count": null,
   "id": "aa78eed6",
   "metadata": {},
   "outputs": [],
   "source": [
    "runner = BacktestRunner(config=config, data=solution)\n",
    "analysis = runner.run()\n",
    "analysis.print_metrics()"
   ]
  },
  {
   "cell_type": "markdown",
   "id": "93abf30e",
   "metadata": {},
   "source": [
    "# Select All Position Sizing Method"
   ]
  },
  {
   "cell_type": "code",
   "execution_count": null,
   "id": "d4fce9a2",
   "metadata": {},
   "outputs": [],
   "source": [
    "base_config = BacktestConfig(\n",
    "    initial_balance=100.0,\n",
    "    trading_mode=\"Cross\",\n",
    "    leverage=10,\n",
    "    \n",
    "    exit_on_signal_0=True,\n",
    "    # --- Parameters for all sizing methods ---\n",
    "    # For PercentBalance\n",
    "    percent_balance_pct=0.1,\n",
    "    # For FixedAmount\n",
    "    stop_loss_pct=0.02,\n",
    "    take_profit_pct=0.02,\n",
    "    # For AtrVolatility\n",
    "    atr_volatility_risk_pct=0.02,\n",
    "    atr_volatility_period=14,\n",
    "    atr_volatility_multiplier=2.5,\n",
    "    # For KellyCriterion\n",
    "    kelly_criterion_lookback=50,\n",
    "    kelly_criterion_fraction=0.5,\n",
    "    # For AtrBands\n",
    "    atr_bands_risk_pct=0.02,\n",
    "    atr_bands_period=14,\n",
    "    atr_bands_multiplier=2.0,\n",
    "    atr_bands_risk_reward_ratio=1.5,\n",
    ")"
   ]
  },
  {
   "cell_type": "code",
   "execution_count": null,
   "id": "a8f4ddb2",
   "metadata": {},
   "outputs": [],
   "source": [
    "from AlgoTrade.Backtester import ComparativeRunner as cr"
   ]
  },
  {
   "cell_type": "code",
   "execution_count": null,
   "id": "224d1d29",
   "metadata": {},
   "outputs": [],
   "source": [
    "res = cr.run_comparative_analysis(base_config, solution)"
   ]
  },
  {
   "cell_type": "code",
   "execution_count": null,
   "id": "163c643f",
   "metadata": {},
   "outputs": [],
   "source": [
    "cr.print_comparison_report(res)"
   ]
  },
  {
   "cell_type": "markdown",
   "id": "3d95d715",
   "metadata": {},
   "source": [
    "# Optimizer\n",
    "\n"
   ]
  },
  {
   "cell_type": "code",
   "execution_count": null,
   "id": "f8905fed",
   "metadata": {},
   "outputs": [],
   "source": [
    "def generate_signals_for_trial(\n",
    "    trial: optuna.trial.Trial, data_dict: Dict[str, pd.DataFrame]\n",
    ") -> pd.DataFrame:\n",
    "    \"\"\"\n",
    "    This function is passed to the optimizer. It defines the parameters to tune\n",
    "    and returns a DataFrame with a 'signal' column.\n",
    "    \"\"\"\n",
    "    # 1. Define the parameters you want to optimize for this strategy\n",
    "    ltf_ma_period = trial.suggest_int(\"ltf_ma_period\", 20, 100, step=5)\n",
    "    htf_ma_period = trial.suggest_int(\"htf_ma_period\", 5, 50, step=1)\n",
    "    # You could also tune other things, e.g., a volatility filter threshold\n",
    "    # min_spread = trial.suggest_float(\"min_spread\", -0.0001, 0.0001)\n",
    "\n",
    "    # 2. Get the data\n",
    "    df1, df2 = pre_process_data(\n",
    "        data_dict[\"ltf_data\"].copy(), data_dict[\"htf_data\"].copy()\n",
    "    )\n",
    "\n",
    "    # 3. Calculate indicators using the trial's parameters\n",
    "    df1 = compute_indicators_df1(df1, period_df1=ltf_ma_period)\n",
    "    df2 = compute_indicators_df2(df2, period_df2=htf_ma_period)\n",
    "\n",
    "    # 4. Merge and compute final signal\n",
    "    merged_df = merge_htf_into_ltf(df1, df2, suffix=\"_4h\")\n",
    "    solution_df = compute_signals(merged_df)\n",
    "\n",
    "    # 5. Set index and return\n",
    "    solution_df.set_index(\"datetime\", inplace=True)\n",
    "    return solution_df"
   ]
  },
  {
   "cell_type": "code",
   "execution_count": null,
   "id": "39d773c1",
   "metadata": {},
   "outputs": [],
   "source": [
    "data_dictionary = {\n",
    "    \"ltf_data\": ohlcv_data_s,\n",
    "    \"htf_data\": ohlcv_data_l,\n",
    "}\n",
    "\n",
    "fixed_config = BacktestConfig(\n",
    "    initial_balance=100.0,\n",
    "    trading_mode=\"Cross\",\n",
    "    leverage=10,\n",
    "    position_sizing_method=\"AtrBands\",\n",
    "    atr_bands_risk_pct=0.01,\n",
    "    atr_bands_period=14,\n",
    "    atr_bands_multiplier=2.0,\n",
    "    atr_bands_risk_reward_ratio=1.5,\n",
    "    exit_on_signal_0=False,\n",
    "    allow_reverse_trade=False,\n",
    ")"
   ]
  },
  {
   "cell_type": "code",
   "execution_count": null,
   "id": "9858aced",
   "metadata": {},
   "outputs": [],
   "source": [
    "print(\"\\n--- Running Strategy Optimization ---\")\n",
    "run_optimization(\n",
    "    data_dict=data_dictionary,\n",
    "    config=fixed_config,\n",
    "    strategy_function=generate_signals_for_trial,\n",
    "    n_trials=10,\n",
    "    metric_to_optimize=\"sharpe_ratio\"\n",
    ")\n"
   ]
  },
  {
   "cell_type": "code",
   "execution_count": null,
   "id": "015a7adf",
   "metadata": {},
   "outputs": [],
   "source": []
  }
 ],
 "metadata": {
  "kernelspec": {
   "display_name": ".venv (3.12.6)",
   "language": "python",
   "name": "python3"
  },
  "language_info": {
   "codemirror_mode": {
    "name": "ipython",
    "version": 3
   },
   "file_extension": ".py",
   "mimetype": "text/x-python",
   "name": "python",
   "nbconvert_exporter": "python",
   "pygments_lexer": "ipython3",
   "version": "3.12.6"
  }
 },
 "nbformat": 4,
 "nbformat_minor": 5
}
