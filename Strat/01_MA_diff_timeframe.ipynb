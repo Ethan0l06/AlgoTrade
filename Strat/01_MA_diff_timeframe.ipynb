{
 "cells": [
  {
   "cell_type": "markdown",
   "id": "980f2fb4",
   "metadata": {},
   "source": [
    "Mainly serve as a template for future strategies. The template use simple moving average (SMA) of different timeframes to generate buy and sell signals. The higher timeframe SMA is used to generate the trend, and the lower timeframe SMA is used to generate the entry and exit points."
   ]
  },
  {
   "cell_type": "code",
   "execution_count": 1,
   "id": "d5ab2409",
   "metadata": {},
   "outputs": [],
   "source": [
    "from typing_extensions import Dict\n",
    "import optuna\n",
    "import pandas as pd\n",
    "import numpy as np\n",
    "import talib as ta\n",
    "# --- Our Imports ---\n",
    "from AlgoTrade.Utils.DataManager import DataManager\n",
    "from AlgoTrade.Config.BacktestConfig import BacktestConfig\n",
    "from AlgoTrade.Backtester.BacktestRunner import BacktestRunner\n",
    "from AlgoTrade.Factories.IndicatorFactory import IndicatorFactory\n",
    "from AlgoTrade.Strat.Class.BaseStrategy import BaseStrategy\n",
    "from AlgoTrade.Optimizer.StudyRunner import run_optimization\n",
    "from AlgoTrade.Sizing.AtrBandsSizer import AtrBandsSizer\n",
    "from AlgoTrade.Config.Enums import TradingMode"
   ]
  },
  {
   "cell_type": "code",
   "execution_count": 2,
   "id": "d2274b24",
   "metadata": {},
   "outputs": [],
   "source": [
    "class MaDiffTimeframeStrategy(BaseStrategy):\n",
    "    def __init__(\n",
    "        self,\n",
    "        config: BacktestConfig,\n",
    "        symbol_ltf: str,\n",
    "        tframe_ltf: str,\n",
    "        symbol_htf: str,\n",
    "        tframe_htf: str,\n",
    "        start_date: str,\n",
    "    ):\n",
    "        super().__init__(config)\n",
    "        self.dm = DataManager(name=\"bitget\")\n",
    "        self.symbol_ltf = symbol_ltf\n",
    "        self.tframe_ltf = tframe_ltf\n",
    "        self.symbol_htf = symbol_htf\n",
    "        self.tframe_htf = tframe_htf\n",
    "        self.start_date = start_date\n",
    "\n",
    "    def generate_signals(self) -> pd.DataFrame:\n",
    "        ltf_data = self.dm.from_local(self.symbol_ltf, self.tframe_ltf, self.start_date)\n",
    "        htf_data = self.dm.from_local(self.symbol_htf, self.tframe_htf, self.start_date)\n",
    "\n",
    "        ltf_factory = IndicatorFactory(ltf_data)\n",
    "        df1 = ltf_factory.add_sma(90).add_stddev(14).add_atr(14).get_data()\n",
    "        df1[\"SD_ATR_Spread\"] = df1[\"STDDEV_14\"] - df1[\"ATR_14\"]\n",
    "\n",
    "        htf_factory = IndicatorFactory(htf_data)\n",
    "        df2 = htf_factory.add_sma(14).get_data()\n",
    "        df2[\"trend\"] = np.where(df2[\"close\"] > df2[\"SMA_14\"], 1, -1)\n",
    "        df2[\"trend\"] = pd.Series(df2[\"trend\"]).shift(1).fillna(0)\n",
    "\n",
    "        # Merge logic (simplified from original for clarity)\n",
    "        df2_resampled = df2.reindex(df1.index, method=\"ffill\")\n",
    "        merged = df1.join(df2_resampled, rsuffix=\"_htf\").dropna()\n",
    "\n",
    "        signal = np.where(\n",
    "            (merged[\"trend\"] == 1) & (merged[\"close\"] > merged[\"SMA_90\"]),\n",
    "            1,\n",
    "            np.where(\n",
    "                (merged[\"trend\"] == -1) & (merged[\"close\"] < merged[\"SMA_90\"]), -1, 0\n",
    "            ),\n",
    "        )\n",
    "        merged[\"signal\"] = pd.Series(signal, index=merged.index).shift(1).fillna(0)\n",
    "        return merged"
   ]
  },
  {
   "cell_type": "code",
   "execution_count": 3,
   "id": "d6f0c588",
   "metadata": {},
   "outputs": [],
   "source": [
    "leverage = 10\n",
    "atr_sizer = AtrBandsSizer(\n",
    "    risk_pct=0.01,  # Risk 1% of total equity per trade.\n",
    "    atr_multiplier=1.0,  # Set Stop-Loss at 2x ATR away from the entry price.\n",
    "    risk_reward_ratio=1.5,  # Set Take-Profit at 1.5x the Stop-Loss distance.\n",
    "    leverage=leverage,  # Pass the leverage to the sizer.\n",
    ")\n",
    "config_atr_bands = BacktestConfig(\n",
    "    initial_balance=3000.0,\n",
    "    leverage=leverage,\n",
    "    trading_mode=TradingMode.CROSS,\n",
    "    sizing_strategy=atr_sizer,  # Pass the configured sizer object.\n",
    ")"
   ]
  },
  {
   "cell_type": "code",
   "execution_count": 4,
   "id": "6d0f07fe",
   "metadata": {},
   "outputs": [],
   "source": [
    "strategy = MaDiffTimeframeStrategy(\n",
    "    config=config_atr_bands,\n",
    "    symbol_ltf=\"ADA/USDT:USDT\",\n",
    "    tframe_ltf=\"15m\",\n",
    "    symbol_htf=\"ADA/USDT:USDT\",\n",
    "    tframe_htf=\"1h\",\n",
    "    start_date=\"2024-01-01\",\n",
    ")\n"
   ]
  },
  {
   "cell_type": "code",
   "execution_count": 5,
   "id": "b69d5d9e",
   "metadata": {},
   "outputs": [
    {
     "name": "stdout",
     "output_type": "stream",
     "text": [
      "\\n--- Running Single Backtest ---\n",
      "Loading data from d:\\ComputerScience\\Trading\\Quant2\\data\\bitget\\ADA_USDT_USDT_15m.csv...\n",
      "Load completed successfully. Data shape: (49120, 6)\n",
      "Loading data from d:\\ComputerScience\\Trading\\Quant2\\data\\bitget\\ADA_USDT_USDT_1h.csv...\n"
     ]
    },
    {
     "name": "stderr",
     "output_type": "stream",
     "text": [
      "d:\\ComputerScience\\Trading\\Quant2\\AlgoTrade\\Utils\\DataManager.py:235: UserWarning: Parsing dates in %d/%m/%Y %H:%M format when dayfirst=False (the default) was specified. Pass `dayfirst=True` or specify a format to silence this warning.\n",
      "  data = pd.read_csv(file_path, index_col=\"date\", parse_dates=True)\n"
     ]
    },
    {
     "name": "stdout",
     "output_type": "stream",
     "text": [
      "Load completed successfully. Data shape: (12756, 5)\n",
      "Getting data...\n",
      "Getting data...\n",
      "Starting backtest...\n",
      "Backtest finished.\n",
      "\n",
      "--- Backtest Results ---\n",
      "Period: [2024-01-01] -> [2025-05-26]\n",
      "Initial Balance:        3,000.00\n",
      "Final Balance:          0.00\n",
      "ROI:                    -100.00%\n",
      "Profit:                 11,159.13\n",
      "Loss:                   14159.13\n",
      "Sharpe Ratio:           -9.68\n",
      "Sortino Ratio:          -14.19\n",
      "Calmar Ratio:           -1.00\n",
      "Max Drawdown:           100.00%\n",
      "Total Trades:           10338\n",
      "Total Good Trades:      4159\n",
      "Total Bad Trades:       6179\n",
      "Avg PnL Good Trades:    9.43%\n",
      "Avg PnL Bad Trades:     -7.77%\n",
      "Win Rate:               40.23%\n",
      "Loss Rate:              59.77%\n",
      "Profit Factor:          0.79\n",
      "Generating QuantStats report to d:\\ComputerScience\\Trading\\Quant2\\quantstats\\strategy_report.html...\n",
      "HTML report saved to: d:\\ComputerScience\\Trading\\Quant2\\quantstats\\strategy_report.html\n",
      "Report saved to d:\\ComputerScience\\Trading\\Quant2\\quantstats\\strategy_report.html\n"
     ]
    }
   ],
   "source": [
    "analysis = strategy.run_single(generate_quantstats_report=True)"
   ]
  },
  {
   "cell_type": "code",
   "execution_count": 6,
   "id": "001b11a6",
   "metadata": {},
   "outputs": [],
   "source": [
    "df = analysis.results_df\n",
    "df.to_csv(\"results.csv\")"
   ]
  },
  {
   "cell_type": "code",
   "execution_count": 5,
   "id": "4ad75e55",
   "metadata": {},
   "outputs": [],
   "source": [
    "df1, df2 = pre_process_data(ohlcv_data_s, ohlcv_data_l)\n",
    "ltf_factory = IndicatorFactory(df1)\n",
    "htf_factory = IndicatorFactory(df2)\n",
    "df1 = ltf_factory.add_ema(20).add_ema(10).get_data()\n",
    "df2 = htf_factory.add_ema(20).add_ema(10).get_data()"
   ]
  },
  {
   "cell_type": "code",
   "execution_count": null,
   "id": "c3581ce0",
   "metadata": {},
   "outputs": [],
   "source": [
    "merge_df = merge_htf_into_ltf(df1, df2, suffix=\"_4h\")\n"
   ]
  },
  {
   "cell_type": "code",
   "execution_count": null,
   "id": "a2aa4431",
   "metadata": {},
   "outputs": [],
   "source": [
    "def compute_signals(merged_df: pd.DataFrame):\n",
    "    signal = np.where(\n",
    "        (merged_df[\"trend\"] == 1)\n",
    "        & (merged_df[\"close\"] > merged_df[\"MA\"])\n",
    "        & (merged_df[\"SD_ATR_Spread\"] > 0),\n",
    "        1,\n",
    "        np.where(\n",
    "            (merged_df[\"trend\"] == -1)\n",
    "            & (merged_df[\"close\"] < merged_df[\"MA\"])\n",
    "            & (merged_df[\"SD_ATR_Spread\"] > 0),\n",
    "            -1,\n",
    "            0,\n",
    "        ),\n",
    "    )\n",
    "    merged_df[\"signal\"] = pd.Series(signal, index=merged_df.index).shift(1).fillna(0)\n",
    "    return merged_df"
   ]
  },
  {
   "cell_type": "code",
   "execution_count": null,
   "id": "86a8b9ea",
   "metadata": {},
   "outputs": [],
   "source": [
    "solution = compute_signals(merge_df)"
   ]
  },
  {
   "cell_type": "markdown",
   "id": "bd0f76ac",
   "metadata": {},
   "source": [
    "# Set datetime to index to use the backtest"
   ]
  },
  {
   "cell_type": "code",
   "execution_count": null,
   "id": "b05d0c51",
   "metadata": {},
   "outputs": [],
   "source": [
    "solution.set_index('datetime', inplace=True)"
   ]
  },
  {
   "cell_type": "markdown",
   "id": "ee062196",
   "metadata": {},
   "source": [
    "# Select Position Sizing Method"
   ]
  },
  {
   "cell_type": "code",
   "execution_count": null,
   "id": "00df8850",
   "metadata": {},
   "outputs": [],
   "source": [
    "config = BacktestConfig(\n",
    "    initial_balance=100.0,\n",
    "    trading_mode=\"Cross\",\n",
    "    leverage=10,\n",
    "    position_sizing_method=\"PercentBalance\",\n",
    "    percent_balance_pct=0.1,  # <-- UPDATED\n",
    "    exit_on_signal_0=True,\n",
    "    # General SL/TP can be used as a fallback\n",
    "    stop_loss_pct=0.02,\n",
    "    take_profit_pct=0.02,\n",
    ")"
   ]
  },
  {
   "cell_type": "code",
   "execution_count": null,
   "id": "aa78eed6",
   "metadata": {},
   "outputs": [],
   "source": [
    "runner = BacktestRunner(config=config, data=solution)\n",
    "analysis = runner.run()\n",
    "analysis.print_metrics()"
   ]
  },
  {
   "cell_type": "markdown",
   "id": "93abf30e",
   "metadata": {},
   "source": [
    "# Select All Position Sizing Method"
   ]
  },
  {
   "cell_type": "code",
   "execution_count": null,
   "id": "d4fce9a2",
   "metadata": {},
   "outputs": [],
   "source": [
    "base_config = BacktestConfig(\n",
    "    initial_balance=100.0,\n",
    "    trading_mode=\"Cross\",\n",
    "    leverage=10,\n",
    "    \n",
    "    exit_on_signal_0=True,\n",
    "    # --- Parameters for all sizing methods ---\n",
    "    # For PercentBalance\n",
    "    percent_balance_pct=0.1,\n",
    "    # For FixedAmount\n",
    "    stop_loss_pct=0.02,\n",
    "    take_profit_pct=0.02,\n",
    "    # For AtrVolatility\n",
    "    atr_volatility_risk_pct=0.02,\n",
    "    atr_volatility_period=14,\n",
    "    atr_volatility_multiplier=2.5,\n",
    "    # For KellyCriterion\n",
    "    kelly_criterion_lookback=50,\n",
    "    kelly_criterion_fraction=0.5,\n",
    "    # For AtrBands\n",
    "    atr_bands_risk_pct=0.02,\n",
    "    atr_bands_period=14,\n",
    "    atr_bands_multiplier=2.0,\n",
    "    atr_bands_risk_reward_ratio=1.5,\n",
    ")"
   ]
  },
  {
   "cell_type": "code",
   "execution_count": null,
   "id": "a8f4ddb2",
   "metadata": {},
   "outputs": [],
   "source": [
    "from AlgoTrade.Backtester import ComparativeRunner as cr"
   ]
  },
  {
   "cell_type": "code",
   "execution_count": null,
   "id": "224d1d29",
   "metadata": {},
   "outputs": [],
   "source": [
    "res = cr.run_comparative_analysis(base_config, solution)"
   ]
  },
  {
   "cell_type": "code",
   "execution_count": null,
   "id": "163c643f",
   "metadata": {},
   "outputs": [],
   "source": [
    "cr.print_comparison_report(res)"
   ]
  },
  {
   "cell_type": "markdown",
   "id": "3d95d715",
   "metadata": {},
   "source": [
    "# Optimizer\n",
    "\n"
   ]
  },
  {
   "cell_type": "code",
   "execution_count": null,
   "id": "f8905fed",
   "metadata": {},
   "outputs": [],
   "source": [
    "def generate_signals_for_trial(\n",
    "    trial: optuna.trial.Trial, data_dict: Dict[str, pd.DataFrame]\n",
    ") -> pd.DataFrame:\n",
    "    \"\"\"\n",
    "    This function is passed to the optimizer. It defines the parameters to tune\n",
    "    and returns a DataFrame with a 'signal' column.\n",
    "    \"\"\"\n",
    "    # 1. Define the parameters you want to optimize for this strategy\n",
    "    ltf_ma_period = trial.suggest_int(\"ltf_ma_period\", 20, 100, step=5)\n",
    "    htf_ma_period = trial.suggest_int(\"htf_ma_period\", 5, 50, step=1)\n",
    "    # You could also tune other things, e.g., a volatility filter threshold\n",
    "    # min_spread = trial.suggest_float(\"min_spread\", -0.0001, 0.0001)\n",
    "\n",
    "    # 2. Get the data\n",
    "    df1, df2 = pre_process_data(\n",
    "        data_dict[\"ltf_data\"].copy(), data_dict[\"htf_data\"].copy()\n",
    "    )\n",
    "\n",
    "    # 3. Calculate indicators using the trial's parameters\n",
    "    df1 = compute_indicators_df1(df1, period_df1=ltf_ma_period)\n",
    "    df2 = compute_indicators_df2(df2, period_df2=htf_ma_period)\n",
    "\n",
    "    # 4. Merge and compute final signal\n",
    "    merged_df = merge_htf_into_ltf(df1, df2, suffix=\"_4h\")\n",
    "    solution_df = compute_signals(merged_df)\n",
    "\n",
    "    # 5. Set index and return\n",
    "    solution_df.set_index(\"datetime\", inplace=True)\n",
    "    return solution_df"
   ]
  },
  {
   "cell_type": "code",
   "execution_count": null,
   "id": "39d773c1",
   "metadata": {},
   "outputs": [],
   "source": [
    "data_dictionary = {\n",
    "    \"ltf_data\": ohlcv_data_s,\n",
    "    \"htf_data\": ohlcv_data_l,\n",
    "}\n",
    "\n",
    "fixed_config = BacktestConfig(\n",
    "    initial_balance=100.0,\n",
    "    trading_mode=\"Cross\",\n",
    "    leverage=10,\n",
    "    position_sizing_method=\"AtrBands\",\n",
    "    atr_bands_risk_pct=0.01,\n",
    "    atr_bands_period=14,\n",
    "    atr_bands_multiplier=2.0,\n",
    "    atr_bands_risk_reward_ratio=1.5,\n",
    "    exit_on_signal_0=False,\n",
    "    allow_reverse_trade=False,\n",
    ")"
   ]
  },
  {
   "cell_type": "code",
   "execution_count": null,
   "id": "9858aced",
   "metadata": {},
   "outputs": [],
   "source": [
    "print(\"\\n--- Running Strategy Optimization ---\")\n",
    "run_optimization(\n",
    "    data_dict=data_dictionary,\n",
    "    config=fixed_config,\n",
    "    strategy_function=generate_signals_for_trial,\n",
    "    n_trials=10,\n",
    "    metric_to_optimize=\"sharpe_ratio\"\n",
    ")\n"
   ]
  },
  {
   "cell_type": "code",
   "execution_count": null,
   "id": "015a7adf",
   "metadata": {},
   "outputs": [],
   "source": []
  }
 ],
 "metadata": {
  "kernelspec": {
   "display_name": ".venv (3.12.6)",
   "language": "python",
   "name": "python3"
  },
  "language_info": {
   "codemirror_mode": {
    "name": "ipython",
    "version": 3
   },
   "file_extension": ".py",
   "mimetype": "text/x-python",
   "name": "python",
   "nbconvert_exporter": "python",
   "pygments_lexer": "ipython3",
   "version": "3.12.6"
  }
 },
 "nbformat": 4,
 "nbformat_minor": 5
}
